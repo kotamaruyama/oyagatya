{
 "cells": [
  {
   "cell_type": "code",
   "execution_count": 10,
   "metadata": {},
   "outputs": [
    {
     "data": {
      "text/plain": [
       "'/Users/maruyamakouta/Downloads'"
      ]
     },
     "execution_count": 10,
     "metadata": {},
     "output_type": "execute_result"
    }
   ],
   "source": [
    "pwd"
   ]
  },
  {
   "cell_type": "code",
   "execution_count": 3,
   "metadata": {},
   "outputs": [
    {
     "data": {
      "text/plain": [
       "'EOS\\n'"
      ]
     },
     "execution_count": 3,
     "metadata": {},
     "output_type": "execute_result"
    }
   ],
   "source": [
    "import numpy as np\n",
    "import matplotlib.pyplot as plt\n",
    "import matplotlib\n",
    "%matplotlib inline\n",
    "\n",
    "import networkx as nx\n",
    "import MeCab\n",
    "from collections import defaultdict, Counter\n",
    "from copy import copy, deepcopy\n",
    "mecab = MeCab.Tagger('-d /usr/local/lib/mecab/dic/mecab-ipadic-neologd')\n",
    "mecab.parse('')"
   ]
  },
  {
   "cell_type": "code",
   "execution_count": 4,
   "metadata": {},
   "outputs": [],
   "source": [
    "node_name = defaultdict(str)\n",
    "node_idx = defaultdict(int)\n",
    "node_type = defaultdict(list)\n",
    "node_count = defaultdict(int)\n",
    "edge_list = []\n",
    "with open('sample3.txt', encoding='utf-8',mode=\"r\") as f:\n",
    "    lines=f.readlines()\n",
    "    stopwords=['ここ', 'あれ','ん','よう','0','こと','さん','の', 'ん','これ','もの','そう']"
   ]
  },
  {
   "cell_type": "code",
   "execution_count": 5,
   "metadata": {},
   "outputs": [],
   "source": [
    "cnt = 0\n",
    "for line in lines:\n",
    "    node = mecab.parseToNode(line)\n",
    "    node_prev = None\n",
    "    while node:\n",
    "        w = node.surface\n",
    "        w_type = node.feature.split(',')[0]\n",
    "        if (w_type in [\"名詞\", \"動詞\", \"形容詞\"]) & (w not in stopwords):\n",
    "            # Nodeの処理\n",
    "            if w not in node_name.values():\n",
    "                node_name[cnt] = w\n",
    "                node_idx[w] = cnt\n",
    "                node_count[cnt] = 1\n",
    "                node_type[w_type].append(node_idx[w])\n",
    "                cnt += 1\n",
    "            else:\n",
    "                node_count[node_idx[w]] += 1\n",
    "            # edgeの処理\n",
    "            if (node_prev is not None) & (node_prev != node_idx[w]): # 循環グラフを回避\n",
    "                # 有向グラフを回避\n",
    "                edge = (min(node_prev, node_idx[w]), max(node_prev, node_idx[w]))\n",
    "                edge_list.append(edge)\n",
    "            node_prev = node_idx[w]\n",
    "        node = node.next\n",
    "        if node is None:\n",
    "            break\n",
    "\n",
    "edge_count = Counter(edge_list)"
   ]
  },
  {
   "cell_type": "code",
   "execution_count": 6,
   "metadata": {},
   "outputs": [],
   "source": [
    "G= nx.Graph()\n",
    "G.add_nodes_from([(idx, {'cnt': node_count[idx]}) for idx in node_name])\n",
    "G.number_of_nodes(), len(node_name)\n",
    "G.add_edges_from([(a, b, {'cnt': edge_count[(a, b)]}) for a, b in edge_list])"
   ]
  },
  {
   "cell_type": "code",
   "execution_count": 7,
   "metadata": {},
   "outputs": [],
   "source": [
    "G2 = deepcopy(G)\n",
    "# Node: cnt >= 3で剪定\n",
    "# 破壊的操作なので、予め破壊用のグラフ(G2)と検索用グラフ(G)を分けておく\n",
    "for n, attr in G.nodes().items():\n",
    "    if (attr['cnt'] < 10):\n",
    "        G2.remove_edges_from(list(G.edges(n)))\n",
    "        G2.remove_node(n)\n",
    "\n",
    "G3 = deepcopy(G2)\n",
    "# Edge: cnt >= 2で剪定\n",
    "# Edgeが無くなったNodeは、一旦そのまま\n",
    "for e, attr in G2.edges().items():\n",
    "    if attr['cnt'] < 2:\n",
    "        G3.remove_edge(*e)\n",
    "\n",
    "G4 = deepcopy(G3)\n",
    "# Edgeが無くなったNodeを削除\n",
    "for n in list(G3.nodes()):\n",
    "    if len(G3[n]) == 0:\n",
    "        G4.remove_node(n)\n",
    "\n",
    "G_result = deepcopy(G4) # 描画に使う剪定後のグラフを確定\n",
    "\n",
    "pos = nx.layout.spring_layout(G_result, k=0.7, seed=10) # 2次元平面状の座標を計算\n",
    "labels = {n: node_name[n] for n in pos.keys()} # Nodeに日本語を描画するための辞書\n",
    "# node_size = [np.log(node_count[n])*400 for n in pos.keys()] # 対数スケール\n",
    "node_size = [node_count[n]*50 for n in pos.keys()]\n",
    "\n",
    "edge_alpha = [edge_count[e] for e in G_result.edges()]\n",
    "edge_colors = [edge_count[e] for e in G_result.edges()]\n",
    "edge_width = [edge_count[e] + 2 for e in G_result.edges()]\n"
   ]
  },
  {
   "cell_type": "code",
   "execution_count": 8,
   "metadata": {},
   "outputs": [],
   "source": [
    "matplotlib.rcParams['font.family'] = 'IPAPGothic'\n",
    "np.random.seed(1234)"
   ]
  },
  {
   "cell_type": "code",
   "execution_count": 9,
   "metadata": {},
   "outputs": [
    {
     "ename": "ValueError",
     "evalue": "s must be a scalar, or the same size as x and y",
     "output_type": "error",
     "traceback": [
      "\u001b[0;31m---------------------------------------------------------------------------\u001b[0m",
      "\u001b[0;31mValueError\u001b[0m                                Traceback (most recent call last)",
      "\u001b[0;32m<ipython-input-9-3af671415c73>\u001b[0m in \u001b[0;36m<module>\u001b[0;34m\u001b[0m\n\u001b[1;32m      5\u001b[0m \u001b[0;31m# 指定出来る色はmatplotlibのcolor exampleを参照\u001b[0m\u001b[0;34m\u001b[0m\u001b[0;34m\u001b[0m\u001b[0;34m\u001b[0m\u001b[0m\n\u001b[1;32m      6\u001b[0m \u001b[0;31m# https://matplotlib.org/examples/color/named_colors.html\u001b[0m\u001b[0;34m\u001b[0m\u001b[0;34m\u001b[0m\u001b[0;34m\u001b[0m\u001b[0m\n\u001b[0;32m----> 7\u001b[0;31m nx.draw_networkx_nodes(G_result, pos, \n\u001b[0m\u001b[1;32m      8\u001b[0m                        \u001b[0mnodelist\u001b[0m\u001b[0;34m=\u001b[0m\u001b[0;34m[\u001b[0m\u001b[0mn\u001b[0m \u001b[0;32mfor\u001b[0m \u001b[0mn\u001b[0m \u001b[0;32min\u001b[0m \u001b[0mG_result\u001b[0m\u001b[0;34m.\u001b[0m\u001b[0mnodes\u001b[0m\u001b[0;34m(\u001b[0m\u001b[0;34m)\u001b[0m \u001b[0;32mif\u001b[0m \u001b[0mn\u001b[0m \u001b[0;32min\u001b[0m \u001b[0mnode_type\u001b[0m\u001b[0;34m[\u001b[0m\u001b[0;34m\"名詞\"\u001b[0m\u001b[0;34m]\u001b[0m\u001b[0;34m]\u001b[0m\u001b[0;34m,\u001b[0m\u001b[0;34m\u001b[0m\u001b[0;34m\u001b[0m\u001b[0m\n\u001b[1;32m      9\u001b[0m                        node_size=node_size, node_color=\"orange\", alpha=0.6, ax=ax)\n",
      "\u001b[0;32m~/opt/anaconda3/lib/python3.8/site-packages/networkx/drawing/nx_pylab.py\u001b[0m in \u001b[0;36mdraw_networkx_nodes\u001b[0;34m(G, pos, nodelist, node_size, node_color, node_shape, alpha, cmap, vmin, vmax, ax, linewidths, edgecolors, label)\u001b[0m\n\u001b[1;32m    464\u001b[0m         \u001b[0malpha\u001b[0m \u001b[0;34m=\u001b[0m \u001b[0;32mNone\u001b[0m\u001b[0;34m\u001b[0m\u001b[0;34m\u001b[0m\u001b[0m\n\u001b[1;32m    465\u001b[0m \u001b[0;34m\u001b[0m\u001b[0m\n\u001b[0;32m--> 466\u001b[0;31m     node_collection = ax.scatter(\n\u001b[0m\u001b[1;32m    467\u001b[0m         \u001b[0mxy\u001b[0m\u001b[0;34m[\u001b[0m\u001b[0;34m:\u001b[0m\u001b[0;34m,\u001b[0m \u001b[0;36m0\u001b[0m\u001b[0;34m]\u001b[0m\u001b[0;34m,\u001b[0m\u001b[0;34m\u001b[0m\u001b[0;34m\u001b[0m\u001b[0m\n\u001b[1;32m    468\u001b[0m         \u001b[0mxy\u001b[0m\u001b[0;34m[\u001b[0m\u001b[0;34m:\u001b[0m\u001b[0;34m,\u001b[0m \u001b[0;36m1\u001b[0m\u001b[0;34m]\u001b[0m\u001b[0;34m,\u001b[0m\u001b[0;34m\u001b[0m\u001b[0;34m\u001b[0m\u001b[0m\n",
      "\u001b[0;32m~/opt/anaconda3/lib/python3.8/site-packages/matplotlib/__init__.py\u001b[0m in \u001b[0;36minner\u001b[0;34m(ax, data, *args, **kwargs)\u001b[0m\n\u001b[1;32m   1436\u001b[0m     \u001b[0;32mdef\u001b[0m \u001b[0minner\u001b[0m\u001b[0;34m(\u001b[0m\u001b[0max\u001b[0m\u001b[0;34m,\u001b[0m \u001b[0;34m*\u001b[0m\u001b[0margs\u001b[0m\u001b[0;34m,\u001b[0m \u001b[0mdata\u001b[0m\u001b[0;34m=\u001b[0m\u001b[0;32mNone\u001b[0m\u001b[0;34m,\u001b[0m \u001b[0;34m**\u001b[0m\u001b[0mkwargs\u001b[0m\u001b[0;34m)\u001b[0m\u001b[0;34m:\u001b[0m\u001b[0;34m\u001b[0m\u001b[0;34m\u001b[0m\u001b[0m\n\u001b[1;32m   1437\u001b[0m         \u001b[0;32mif\u001b[0m \u001b[0mdata\u001b[0m \u001b[0;32mis\u001b[0m \u001b[0;32mNone\u001b[0m\u001b[0;34m:\u001b[0m\u001b[0;34m\u001b[0m\u001b[0;34m\u001b[0m\u001b[0m\n\u001b[0;32m-> 1438\u001b[0;31m             \u001b[0;32mreturn\u001b[0m \u001b[0mfunc\u001b[0m\u001b[0;34m(\u001b[0m\u001b[0max\u001b[0m\u001b[0;34m,\u001b[0m \u001b[0;34m*\u001b[0m\u001b[0mmap\u001b[0m\u001b[0;34m(\u001b[0m\u001b[0msanitize_sequence\u001b[0m\u001b[0;34m,\u001b[0m \u001b[0margs\u001b[0m\u001b[0;34m)\u001b[0m\u001b[0;34m,\u001b[0m \u001b[0;34m**\u001b[0m\u001b[0mkwargs\u001b[0m\u001b[0;34m)\u001b[0m\u001b[0;34m\u001b[0m\u001b[0;34m\u001b[0m\u001b[0m\n\u001b[0m\u001b[1;32m   1439\u001b[0m \u001b[0;34m\u001b[0m\u001b[0m\n\u001b[1;32m   1440\u001b[0m         \u001b[0mbound\u001b[0m \u001b[0;34m=\u001b[0m \u001b[0mnew_sig\u001b[0m\u001b[0;34m.\u001b[0m\u001b[0mbind\u001b[0m\u001b[0;34m(\u001b[0m\u001b[0max\u001b[0m\u001b[0;34m,\u001b[0m \u001b[0;34m*\u001b[0m\u001b[0margs\u001b[0m\u001b[0;34m,\u001b[0m \u001b[0;34m**\u001b[0m\u001b[0mkwargs\u001b[0m\u001b[0;34m)\u001b[0m\u001b[0;34m\u001b[0m\u001b[0;34m\u001b[0m\u001b[0m\n",
      "\u001b[0;32m~/opt/anaconda3/lib/python3.8/site-packages/matplotlib/cbook/deprecation.py\u001b[0m in \u001b[0;36mwrapper\u001b[0;34m(*inner_args, **inner_kwargs)\u001b[0m\n\u001b[1;32m    409\u001b[0m                          \u001b[0;32melse\u001b[0m \u001b[0mdeprecation_addendum\u001b[0m\u001b[0;34m,\u001b[0m\u001b[0;34m\u001b[0m\u001b[0;34m\u001b[0m\u001b[0m\n\u001b[1;32m    410\u001b[0m                 **kwargs)\n\u001b[0;32m--> 411\u001b[0;31m         \u001b[0;32mreturn\u001b[0m \u001b[0mfunc\u001b[0m\u001b[0;34m(\u001b[0m\u001b[0;34m*\u001b[0m\u001b[0minner_args\u001b[0m\u001b[0;34m,\u001b[0m \u001b[0;34m**\u001b[0m\u001b[0minner_kwargs\u001b[0m\u001b[0;34m)\u001b[0m\u001b[0;34m\u001b[0m\u001b[0;34m\u001b[0m\u001b[0m\n\u001b[0m\u001b[1;32m    412\u001b[0m \u001b[0;34m\u001b[0m\u001b[0m\n\u001b[1;32m    413\u001b[0m     \u001b[0;32mreturn\u001b[0m \u001b[0mwrapper\u001b[0m\u001b[0;34m\u001b[0m\u001b[0;34m\u001b[0m\u001b[0m\n",
      "\u001b[0;32m~/opt/anaconda3/lib/python3.8/site-packages/matplotlib/axes/_axes.py\u001b[0m in \u001b[0;36mscatter\u001b[0;34m(self, x, y, s, c, marker, cmap, norm, vmin, vmax, alpha, linewidths, verts, edgecolors, plotnonfinite, **kwargs)\u001b[0m\n\u001b[1;32m   4446\u001b[0m         \u001b[0ms\u001b[0m \u001b[0;34m=\u001b[0m \u001b[0mnp\u001b[0m\u001b[0;34m.\u001b[0m\u001b[0mma\u001b[0m\u001b[0;34m.\u001b[0m\u001b[0mravel\u001b[0m\u001b[0;34m(\u001b[0m\u001b[0ms\u001b[0m\u001b[0;34m)\u001b[0m\u001b[0;34m\u001b[0m\u001b[0;34m\u001b[0m\u001b[0m\n\u001b[1;32m   4447\u001b[0m         \u001b[0;32mif\u001b[0m \u001b[0mlen\u001b[0m\u001b[0;34m(\u001b[0m\u001b[0ms\u001b[0m\u001b[0;34m)\u001b[0m \u001b[0;32mnot\u001b[0m \u001b[0;32min\u001b[0m \u001b[0;34m(\u001b[0m\u001b[0;36m1\u001b[0m\u001b[0;34m,\u001b[0m \u001b[0mx\u001b[0m\u001b[0;34m.\u001b[0m\u001b[0msize\u001b[0m\u001b[0;34m)\u001b[0m\u001b[0;34m:\u001b[0m\u001b[0;34m\u001b[0m\u001b[0;34m\u001b[0m\u001b[0m\n\u001b[0;32m-> 4448\u001b[0;31m             \u001b[0;32mraise\u001b[0m \u001b[0mValueError\u001b[0m\u001b[0;34m(\u001b[0m\u001b[0;34m\"s must be a scalar, or the same size as x and y\"\u001b[0m\u001b[0;34m)\u001b[0m\u001b[0;34m\u001b[0m\u001b[0;34m\u001b[0m\u001b[0m\n\u001b[0m\u001b[1;32m   4449\u001b[0m \u001b[0;34m\u001b[0m\u001b[0m\n\u001b[1;32m   4450\u001b[0m         \u001b[0mc\u001b[0m\u001b[0;34m,\u001b[0m \u001b[0mcolors\u001b[0m\u001b[0;34m,\u001b[0m \u001b[0medgecolors\u001b[0m \u001b[0;34m=\u001b[0m\u001b[0;31m \u001b[0m\u001b[0;31m\\\u001b[0m\u001b[0;34m\u001b[0m\u001b[0;34m\u001b[0m\u001b[0m\n",
      "\u001b[0;31mValueError\u001b[0m: s must be a scalar, or the same size as x and y"
     ]
    },
    {
     "name": "stderr",
     "output_type": "stream",
     "text": [
      "findfont: Font family ['IPAPGothic'] not found. Falling back to DejaVu Sans.\n"
     ]
    },
    {
     "data": {
      "image/png": "[encoded data removed]",
      "text/plain": [
       "<Figure size 864x864 with 1 Axes>"
      ]
     },
     "metadata": {
      "needs_background": "light"
     },
     "output_type": "display_data"
    }
   ],
   "source": [
    "fig, ax = plt.subplots(figsize=(12,12))\n",
    "# 名詞のNodeを描画\n",
    "# Nodeを色分けしたいときは、nodelistを使ってNodeのグループ毎に描画関数を繰り返し実行する\n",
    "# nodelistはグループ毎のNode番号を指定するが、それ以外の引数(posやnode_sizeなど)は全てのNodeについての値を入れる\n",
    "# 指定出来る色はmatplotlibのcolor exampleを参照\n",
    "# https://matplotlib.org/examples/color/named_colors.html\n",
    "nx.draw_networkx_nodes(G_result, pos, \n",
    "                       nodelist=[n for n in G_result.nodes() if n in node_type[\"名詞\"]],  \n",
    "                       node_size=node_size, node_color=\"orange\", alpha=0.6, ax=ax)\n",
    "nx.draw_networkx_nodes(G_result, pos, \n",
    "                       nodelist=[n for n in G_result.nodes() if n in node_type[\"動詞\"]], \n",
    "                       node_size=node_size, node_color=\"yellowgreen\", alpha=0.6, ax=ax)\n",
    "nx.draw_networkx_nodes(G_result, pos, \n",
    "                       nodelist=[n for n in G_result.nodes() if n in node_type[\"形容詞\"]], \n",
    "                       node_size=node_size, node_color=\"tomato\", alpha=0.6, ax=ax)\n",
    "# edgeの色に濃淡をつけたいときは、edge_colorに数値のlistを代入してedge_cmapを使用\n",
    "# Sequentialなカラーマップから好きなやつを選ぶ\n",
    "# https://matplotlib.org/examples/color/colormaps_reference.html\n",
    "# 色の濃淡の具合はedge_vmin, edge_vmaxで調整\n",
    "nx.draw_networkx_edges(G_result, pos, alpha=0.6,\n",
    "                       width=edge_width, edge_color=edge_colors, \n",
    "                       edge_vmin=0, edge_vmax=10,\n",
    "                       edge_cmap=plt.cm.Blues,ax=ax)\n",
    "# Nodeにラベルをつけたいときは、以下の関数を使う\n",
    "# font_familyにPCに入っている日本語フォントを指定してあげると、日本語を描画してくれる\n",
    "nx.draw_networkx_labels(G_result, pos, labels, font_size=10, font_family=\"IPAPGothic\", ax=ax)\n",
    "\n",
    "plt.show()"
   ]
  },
  {
   "cell_type": "code",
   "execution_count": null,
   "metadata": {},
   "outputs": [],
   "source": []
  }
 ],
 "metadata": {
  "kernelspec": {
   "display_name": "Python 3",
   "language": "python",
   "name": "python3"
  },
  "language_info": {
   "codemirror_mode": {
    "name": "ipython",
    "version": 3
   },
   "file_extension": ".py",
   "mimetype": "text/x-python",
   "name": "python",
   "nbconvert_exporter": "python",
   "pygments_lexer": "ipython3",
   "version": "3.8.5"
  }
 },
 "nbformat": 4,
 "nbformat_minor": 4
}
